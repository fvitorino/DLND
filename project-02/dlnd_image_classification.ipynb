{
 "cells": [
  {
   "cell_type": "markdown",
   "metadata": {
    "collapsed": true
   },
   "source": [
    "# Image Classification\n",
    "In this project, you'll classify images from the [CIFAR-10 dataset](https://www.cs.toronto.edu/~kriz/cifar.html).  The dataset consists of airplanes, dogs, cats, and other objects. You'll preprocess the images, then train a convolutional neural network on all the samples. The images need to be normalized and the labels need to be one-hot encoded.  You'll get to apply what you learned and build a convolutional, max pooling, dropout, and fully connected layers.  At the end, you'll get to see your neural network's predictions on the sample images.\n",
    "## Get the Data\n",
    "Run the following cell to download the [CIFAR-10 dataset for python](https://www.cs.toronto.edu/~kriz/cifar-10-python.tar.gz)."
   ]
  },
  {
   "cell_type": "code",
   "execution_count": 1,
   "metadata": {},
   "outputs": [
    {
     "name": "stdout",
     "output_type": "stream",
     "text": [
      "All files found!\n"
     ]
    }
   ],
   "source": [
    "\"\"\"\n",
    "DON'T MODIFY ANYTHING IN THIS CELL THAT IS BELOW THIS LINE\n",
    "\"\"\"\n",
    "from urllib.request import urlretrieve\n",
    "from os.path import isfile, isdir\n",
    "from tqdm import tqdm\n",
    "import problem_unittests as tests\n",
    "import tarfile\n",
    "\n",
    "cifar10_dataset_folder_path = 'cifar-10-batches-py'\n",
    "\n",
    "# Use Floyd's cifar-10 dataset if present\n",
    "floyd_cifar10_location = '/input/cifar-10/python.tar.gz'\n",
    "if isfile(floyd_cifar10_location):\n",
    "    tar_gz_path = floyd_cifar10_location\n",
    "else:\n",
    "    tar_gz_path = 'cifar-10-python.tar.gz'\n",
    "\n",
    "class DLProgress(tqdm):\n",
    "    last_block = 0\n",
    "\n",
    "    def hook(self, block_num=1, block_size=1, total_size=None):\n",
    "        self.total = total_size\n",
    "        self.update((block_num - self.last_block) * block_size)\n",
    "        self.last_block = block_num\n",
    "\n",
    "if not isfile(tar_gz_path):\n",
    "    with DLProgress(unit='B', unit_scale=True, miniters=1, desc='CIFAR-10 Dataset') as pbar:\n",
    "        urlretrieve(\n",
    "            'https://www.cs.toronto.edu/~kriz/cifar-10-python.tar.gz',\n",
    "            tar_gz_path,\n",
    "            pbar.hook)\n",
    "\n",
    "if not isdir(cifar10_dataset_folder_path):\n",
    "    with tarfile.open(tar_gz_path) as tar:\n",
    "        tar.extractall()\n",
    "        tar.close()\n",
    "\n",
    "\n",
    "tests.test_folder_path(cifar10_dataset_folder_path)"
   ]
  },
  {
   "cell_type": "markdown",
   "metadata": {},
   "source": [
    "## Explore the Data\n",
    "The dataset is broken into batches to prevent your machine from running out of memory.  The CIFAR-10 dataset consists of 5 batches, named `data_batch_1`, `data_batch_2`, etc.. Each batch contains the labels and images that are one of the following:\n",
    "* airplane\n",
    "* automobile\n",
    "* bird\n",
    "* cat\n",
    "* deer\n",
    "* dog\n",
    "* frog\n",
    "* horse\n",
    "* ship\n",
    "* truck\n",
    "\n",
    "Understanding a dataset is part of making predictions on the data.  Play around with the code cell below by changing the `batch_id` and `sample_id`. The `batch_id` is the id for a batch (1-5). The `sample_id` is the id for a image and label pair in the batch.\n",
    "\n",
    "Ask yourself \"What are all possible labels?\", \"What is the range of values for the image data?\", \"Are the labels in order or random?\".  Answers to questions like these will help you preprocess the data and end up with better predictions."
   ]
  },
  {
   "cell_type": "code",
   "execution_count": 2,
   "metadata": {},
   "outputs": [
    {
     "name": "stdout",
     "output_type": "stream",
     "text": [
      "\n",
      "Stats of batch 4:\n",
      "Samples: 10000\n",
      "Label Counts: {0: 1003, 1: 963, 2: 1041, 3: 976, 4: 1004, 5: 1021, 6: 1004, 7: 981, 8: 1024, 9: 983}\n",
      "First 20 Labels: [0, 6, 0, 2, 7, 2, 1, 2, 4, 1, 5, 6, 6, 3, 1, 3, 5, 5, 8, 1]\n",
      "\n",
      "Example of Image 445:\n",
      "Image - Min Value: 32 Max Value: 255\n",
      "Image - Shape: (32, 32, 3)\n",
      "Label - Label Id: 1 Name: automobile\n"
     ]
    },
    {
     "data": {
      "image/png": "[encoded data removed]",
      "text/plain": [
       "<matplotlib.figure.Figure at 0x10dc5acf8>"
      ]
     },
     "metadata": {
      "image/png": {
       "height": 250,
       "width": 253
      }
     },
     "output_type": "display_data"
    }
   ],
   "source": [
    "%matplotlib inline\n",
    "%config InlineBackend.figure_format = 'retina'\n",
    "\n",
    "import helper\n",
    "import numpy as np\n",
    "\n",
    "# Explore the dataset\n",
    "batch_id = 4\n",
    "sample_id = 445\n",
    "helper.display_stats(cifar10_dataset_folder_path, batch_id, sample_id)"
   ]
  },
  {
   "cell_type": "markdown",
   "metadata": {},
   "source": [
    "## Implement Preprocess Functions\n",
    "### Normalize\n",
    "In the cell below, implement the `normalize` function to take in image data, `x`, and return it as a normalized Numpy array. The values should be in the range of 0 to 1, inclusive.  The return object should be the same shape as `x`."
   ]
  },
  {
   "cell_type": "code",
   "execution_count": 3,
   "metadata": {},
   "outputs": [
    {
     "name": "stdout",
     "output_type": "stream",
     "text": [
      "Tests Passed\n"
     ]
    }
   ],
   "source": [
    "def normalize(x):\n",
    "    \"\"\"\n",
    "    Normalize a list of sample image data in the range of 0 to 1\n",
    "    : x: List of image data.  The image shape is (32, 32, 3)\n",
    "    : return: Numpy array of normalize data\n",
    "    \"\"\"\n",
    "    normalized = (x - x.min())/(x.max() - x.min())\n",
    "    return normalized\n",
    "\n",
    "\n",
    "\"\"\"\n",
    "DON'T MODIFY ANYTHING IN THIS CELL THAT IS BELOW THIS LINE\n",
    "\"\"\"\n",
    "tests.test_normalize(normalize)"
   ]
  },
  {
   "cell_type": "markdown",
   "metadata": {},
   "source": [
    "### One-hot encode\n",
    "Just like the previous code cell, you'll be implementing a function for preprocessing.  This time, you'll implement the `one_hot_encode` function. The input, `x`, are a list of labels.  Implement the function to return the list of labels as One-Hot encoded Numpy array.  The possible values for labels are 0 to 9. The one-hot encoding function should return the same encoding for each value between each call to `one_hot_encode`.  Make sure to save the map of encodings outside the function.\n",
    "\n",
    "Hint: Don't reinvent the wheel."
   ]
  },
  {
   "cell_type": "code",
   "execution_count": 4,
   "metadata": {
    "collapsed": true
   },
   "outputs": [],
   "source": [
    "labels = {\"airplane\":0,\"automobile\":1,\"bird\":2,\"cat\":3,\"deer\":4,\"dog\":5,\"frog\":6,\"horse\":7,\"ship\":8,\"truck\":9}"
   ]
  },
  {
   "cell_type": "code",
   "execution_count": 5,
   "metadata": {},
   "outputs": [
    {
     "name": "stdout",
     "output_type": "stream",
     "text": [
      "Tests Passed\n"
     ]
    }
   ],
   "source": [
    "def one_hot_encode(x):\n",
    "    \"\"\"\n",
    "    One hot encode a list of sample labels. Return a one-hot encoded vector for each label.\n",
    "    : x: List of sample Labels\n",
    "    : return: Numpy array of one-hot encoded labels\n",
    "    \"\"\"\n",
    "    encoded_list=[]\n",
    "    for label in x:\n",
    "        onehotencoded=np.zeros(10)\n",
    "        onehotencoded[label] = 1\n",
    "        encoded_list.append(onehotencoded)\n",
    "    return np.array(encoded_list)\n",
    "\n",
    "\n",
    "\"\"\"\n",
    "DON'T MODIFY ANYTHING IN THIS CELL THAT IS BELOW THIS LINE\n",
    "\"\"\"\n",
    "tests.test_one_hot_encode(one_hot_encode)"
   ]
  },
  {
   "cell_type": "markdown",
   "metadata": {},
   "source": [
    "### Randomize Data\n",
    "As you saw from exploring the data above, the order of the samples are randomized.  It doesn't hurt to randomize it again, but you don't need to for this dataset."
   ]
  },
  {
   "cell_type": "markdown",
   "metadata": {},
   "source": [
    "## Preprocess all the data and save it\n",
    "Running the code cell below will preprocess all the CIFAR-10 data and save it to file. The code below also uses 10% of the training data for validation."
   ]
  },
  {
   "cell_type": "code",
   "execution_count": 6,
   "metadata": {
    "collapsed": true
   },
   "outputs": [],
   "source": [
    "\"\"\"\n",
    "DON'T MODIFY ANYTHING IN THIS CELL\n",
    "\"\"\"\n",
    "# Preprocess Training, Validation, and Testing Data\n",
    "helper.preprocess_and_save_data(cifar10_dataset_folder_path, normalize, one_hot_encode)"
   ]
  },
  {
   "cell_type": "markdown",
   "metadata": {},
   "source": [
    "# Check Point\n",
    "This is your first checkpoint.  If you ever decide to come back to this notebook or have to restart the notebook, you can start from here.  The preprocessed data has been saved to disk."
   ]
  },
  {
   "cell_type": "code",
   "execution_count": 7,
   "metadata": {
    "collapsed": true
   },
   "outputs": [],
   "source": [
    "\"\"\"\n",
    "DON'T MODIFY ANYTHING IN THIS CELL\n",
    "\"\"\"\n",
    "import pickle\n",
    "import problem_unittests as tests\n",
    "import helper\n",
    "\n",
    "# Load the Preprocessed Validation data\n",
    "valid_features, valid_labels = pickle.load(open('preprocess_validation.p', mode='rb'))"
   ]
  },
  {
   "cell_type": "markdown",
   "metadata": {},
   "source": [
    "## Build the network\n",
    "For the neural network, you'll build each layer into a function.  Most of the code you've seen has been outside of functions. To test your code more thoroughly, we require that you put each layer in a function.  This allows us to give you better feedback and test for simple mistakes using our unittests before you submit your project.\n",
    "\n",
    ">**Note:** If you're finding it hard to dedicate enough time for this course each week, we've provided a small shortcut to this part of the project. In the next couple of problems, you'll have the option to use classes from the [TensorFlow Layers](https://www.tensorflow.org/api_docs/python/tf/layers) or [TensorFlow Layers (contrib)](https://www.tensorflow.org/api_guides/python/contrib.layers) packages to build each layer, except the layers you build in the \"Convolutional and Max Pooling Layer\" section.  TF Layers is similar to Keras's and TFLearn's abstraction to layers, so it's easy to pickup.\n",
    "\n",
    ">However, if you would like to get the most out of this course, try to solve all the problems _without_ using anything from the TF Layers packages. You **can** still use classes from other packages that happen to have the same name as ones you find in TF Layers! For example, instead of using the TF Layers version of the `conv2d` class, [tf.layers.conv2d](https://www.tensorflow.org/api_docs/python/tf/layers/conv2d), you would want to use the TF Neural Network version of `conv2d`, [tf.nn.conv2d](https://www.tensorflow.org/api_docs/python/tf/nn/conv2d). \n",
    "\n",
    "Let's begin!\n",
    "\n",
    "### Input\n",
    "The neural network needs to read the image data, one-hot encoded labels, and dropout keep probability. Implement the following functions\n",
    "* Implement `neural_net_image_input`\n",
    " * Return a [TF Placeholder](https://www.tensorflow.org/api_docs/python/tf/placeholder)\n",
    " * Set the shape using `image_shape` with batch size set to `None`.\n",
    " * Name the TensorFlow placeholder \"x\" using the TensorFlow `name` parameter in the [TF Placeholder](https://www.tensorflow.org/api_docs/python/tf/placeholder).\n",
    "* Implement `neural_net_label_input`\n",
    " * Return a [TF Placeholder](https://www.tensorflow.org/api_docs/python/tf/placeholder)\n",
    " * Set the shape using `n_classes` with batch size set to `None`.\n",
    " * Name the TensorFlow placeholder \"y\" using the TensorFlow `name` parameter in the [TF Placeholder](https://www.tensorflow.org/api_docs/python/tf/placeholder).\n",
    "* Implement `neural_net_keep_prob_input`\n",
    " * Return a [TF Placeholder](https://www.tensorflow.org/api_docs/python/tf/placeholder) for dropout keep probability.\n",
    " * Name the TensorFlow placeholder \"keep_prob\" using the TensorFlow `name` parameter in the [TF Placeholder](https://www.tensorflow.org/api_docs/python/tf/placeholder).\n",
    "\n",
    "These names will be used at the end of the project to load your saved model.\n",
    "\n",
    "Note: `None` for shapes in TensorFlow allow for a dynamic size."
   ]
  },
  {
   "cell_type": "code",
   "execution_count": 8,
   "metadata": {},
   "outputs": [
    {
     "name": "stdout",
     "output_type": "stream",
     "text": [
      "Image Input Tests Passed.\n",
      "Label Input Tests Passed.\n",
      "Keep Prob Tests Passed.\n"
     ]
    }
   ],
   "source": [
    "import tensorflow as tf\n",
    "\n",
    "def neural_net_image_input(image_shape):\n",
    "    \"\"\"\n",
    "    Return a Tensor for a bach of image input\n",
    "    : image_shape: Shape of the images\n",
    "    : return: Tensor for image input.\n",
    "    \"\"\"\n",
    "    return tf.placeholder(tf.float32, shape=(None,image_shape[0],image_shape[1],image_shape[2]), name='x')\n",
    "\n",
    "\n",
    "\n",
    "def neural_net_label_input(n_classes):\n",
    "    \"\"\"\n",
    "    Return a Tensor for a batch of label input\n",
    "    : n_classes: Number of classes\n",
    "    : return: Tensor for label input.\n",
    "    \"\"\"\n",
    "    return tf.placeholder(tf.int32, shape=(None,n_classes), name='y')\n",
    "\n",
    "\n",
    "def neural_net_keep_prob_input():\n",
    "    \"\"\"\n",
    "    Return a Tensor for keep probability\n",
    "    : return: Tensor for keep probability.\n",
    "    \"\"\"\n",
    "    return tf.placeholder(tf.float32, name='keep_prob')\n",
    "\n",
    "\n",
    "\"\"\"\n",
    "DON'T MODIFY ANYTHING IN THIS CELL THAT IS BELOW THIS LINE\n",
    "\"\"\"\n",
    "tf.reset_default_graph()\n",
    "tests.test_nn_image_inputs(neural_net_image_input)\n",
    "tests.test_nn_label_inputs(neural_net_label_input)\n",
    "tests.test_nn_keep_prob_inputs(neural_net_keep_prob_input)"
   ]
  },
  {
   "cell_type": "markdown",
   "metadata": {},
   "source": [
    "### Convolution and Max Pooling Layer\n",
    "Convolution layers have a lot of success with images. For this code cell, you should implement the function `conv2d_maxpool` to apply convolution then max pooling:\n",
    "* Create the weight and bias using `conv_ksize`, `conv_num_outputs` and the shape of `x_tensor`.\n",
    "* Apply a convolution to `x_tensor` using weight and `conv_strides`.\n",
    " * We recommend you use same padding, but you're welcome to use any padding.\n",
    "* Add bias\n",
    "* Add a nonlinear activation to the convolution.\n",
    "* Apply Max Pooling using `pool_ksize` and `pool_strides`.\n",
    " * We recommend you use same padding, but you're welcome to use any padding.\n",
    "\n",
    "**Note:** You **can't** use [TensorFlow Layers](https://www.tensorflow.org/api_docs/python/tf/layers) or [TensorFlow Layers (contrib)](https://www.tensorflow.org/api_guides/python/contrib.layers) for **this** layer, but you can still use TensorFlow's [Neural Network](https://www.tensorflow.org/api_docs/python/tf/nn) package. You may still use the shortcut option for all the **other** layers."
   ]
  },
  {
   "cell_type": "code",
   "execution_count": 9,
   "metadata": {},
   "outputs": [
    {
     "name": "stdout",
     "output_type": "stream",
     "text": [
      "Tests Passed\n"
     ]
    }
   ],
   "source": [
    "def conv2d_maxpool(x_tensor, conv_num_outputs, conv_ksize, conv_strides, pool_ksize, pool_strides):\n",
    "    \"\"\"\n",
    "    Apply convolution then max pooling to x_tensor\n",
    "    :param x_tensor: TensorFlow Tensor\n",
    "    :param conv_num_outputs: Number of outputs for the convolutional layer\n",
    "    :param conv_ksize: kernal size 2-D Tuple for the convolutional layer\n",
    "    :param conv_strides: Stride 2-D Tuple for convolution\n",
    "    :param pool_ksize: kernal size 2-D Tuple for pool\n",
    "    :param pool_strides: Stride 2-D Tuple for pool\n",
    "    : return: A tensor that represents convolution and max pooling of x_tensor\n",
    "    \"\"\"\n",
    "    input_channels = x_tensor.get_shape().as_list()[3]\n",
    "    # Weight and bias\n",
    "    weight = tf.Variable(tf.truncated_normal(\n",
    "                [conv_ksize[0], conv_ksize[1], input_channels, conv_num_outputs]))\n",
    "\n",
    "    bias = tf.Variable(tf.zeros(conv_num_outputs))\n",
    "    # Apply Convolution\n",
    "    conv_layer = tf.nn.conv2d(x_tensor, \n",
    "                              weight, \n",
    "                              strides=[1, conv_strides[0], conv_strides[1], 1],\n",
    "                              padding='SAME')\n",
    "    # Add bias\n",
    "    conv_layer = tf.nn.bias_add(conv_layer, bias)\n",
    "    # Apply activation function\n",
    "    conv_layer = tf.nn.relu(conv_layer)\n",
    "    # Apply Max Pooling\n",
    "    conv_layer = tf.nn.max_pool(\n",
    "                    conv_layer, \n",
    "                    ksize=[1, pool_ksize[0], pool_ksize[1], 1], \n",
    "                    strides=[1, pool_strides[0], pool_strides[1], 1], \n",
    "                    padding='SAME')\n",
    "    return conv_layer\n",
    "\n",
    "\n",
    "\"\"\"\n",
    "DON'T MODIFY ANYTHING IN THIS CELL THAT IS BELOW THIS LINE\n",
    "\"\"\"\n",
    "tests.test_con_pool(conv2d_maxpool)"
   ]
  },
  {
   "cell_type": "markdown",
   "metadata": {},
   "source": [
    "### Flatten Layer\n",
    "Implement the `flatten` function to change the dimension of `x_tensor` from a 4-D tensor to a 2-D tensor.  The output should be the shape (*Batch Size*, *Flattened Image Size*). Shortcut option: you can use classes from the [TensorFlow Layers](https://www.tensorflow.org/api_docs/python/tf/layers) or [TensorFlow Layers (contrib)](https://www.tensorflow.org/api_guides/python/contrib.layers) packages for this layer. For more of a challenge, only use other TensorFlow packages."
   ]
  },
  {
   "cell_type": "code",
   "execution_count": 10,
   "metadata": {},
   "outputs": [
    {
     "name": "stdout",
     "output_type": "stream",
     "text": [
      "Tests Passed\n"
     ]
    }
   ],
   "source": [
    "def flatten(x_tensor):\n",
    "    \"\"\"\n",
    "    Flatten x_tensor to (Batch Size, Flattened Image Size)\n",
    "    : x_tensor: A tensor of size (Batch Size, ...), where ... are the image dimensions.\n",
    "    : return: A tensor of size (Batch Size, Flattened Image Size).\n",
    "    \"\"\"\n",
    "    shape = x_tensor.get_shape().as_list()\n",
    "    flattened_image_size = shape[1] * shape[2] * shape[3]\n",
    "    return tf.reshape(x_tensor, [-1, flattened_image_size])\n",
    "    #return tf.contrib.layers.flatten(x_tensor)\n",
    "\n",
    "\n",
    "\"\"\"\n",
    "DON'T MODIFY ANYTHING IN THIS CELL THAT IS BELOW THIS LINE\n",
    "\"\"\"\n",
    "tests.test_flatten(flatten)"
   ]
  },
  {
   "cell_type": "markdown",
   "metadata": {},
   "source": [
    "### Fully-Connected Layer\n",
    "Implement the `fully_conn` function to apply a fully connected layer to `x_tensor` with the shape (*Batch Size*, *num_outputs*). Shortcut option: you can use classes from the [TensorFlow Layers](https://www.tensorflow.org/api_docs/python/tf/layers) or [TensorFlow Layers (contrib)](https://www.tensorflow.org/api_guides/python/contrib.layers) packages for this layer. For more of a challenge, only use other TensorFlow packages."
   ]
  },
  {
   "cell_type": "code",
   "execution_count": 11,
   "metadata": {},
   "outputs": [
    {
     "name": "stdout",
     "output_type": "stream",
     "text": [
      "Tests Passed\n"
     ]
    }
   ],
   "source": [
    "def fully_conn(x_tensor, num_outputs):\n",
    "    \"\"\"\n",
    "    Apply a fully connected layer to x_tensor using weight and bias\n",
    "    : x_tensor: A 2-D tensor where the first dimension is batch size.\n",
    "    : num_outputs: The number of output that the new tensor should be.\n",
    "    : return: A 2-D tensor where the second dimension is num_outputs.\n",
    "    \"\"\"\n",
    "    shape = x_tensor.get_shape().as_list()\n",
    "    weight = tf.Variable(tf.random_normal([shape[1], num_outputs], stddev=0.1))\n",
    "    bias = tf.Variable(tf.random_normal([num_outputs], stddev=0.1))\n",
    "    \n",
    "    fc = tf.reshape(x_tensor, [-1, weight.get_shape().as_list()[0]])\n",
    "    fc = tf.add(tf.matmul(fc, weight), bias)\n",
    "    fc = tf.nn.relu(fc)\n",
    "    return fc\n",
    "\n",
    "\n",
    "\"\"\"\n",
    "DON'T MODIFY ANYTHING IN THIS CELL THAT IS BELOW THIS LINE\n",
    "\"\"\"\n",
    "tests.test_fully_conn(fully_conn)"
   ]
  },
  {
   "cell_type": "markdown",
   "metadata": {},
   "source": [
    "### Output Layer\n",
    "Implement the `output` function to apply a fully connected layer to `x_tensor` with the shape (*Batch Size*, *num_outputs*). Shortcut option: you can use classes from the [TensorFlow Layers](https://www.tensorflow.org/api_docs/python/tf/layers) or [TensorFlow Layers (contrib)](https://www.tensorflow.org/api_guides/python/contrib.layers) packages for this layer. For more of a challenge, only use other TensorFlow packages.\n",
    "\n",
    "**Note:** Activation, softmax, or cross entropy should **not** be applied to this."
   ]
  },
  {
   "cell_type": "code",
   "execution_count": 12,
   "metadata": {},
   "outputs": [
    {
     "name": "stdout",
     "output_type": "stream",
     "text": [
      "Tests Passed\n"
     ]
    }
   ],
   "source": [
    "def output(x_tensor, num_outputs):\n",
    "    \"\"\"\n",
    "    Apply a output layer to x_tensor using weight and bias\n",
    "    : x_tensor: A 2-D tensor where the first dimension is batch size.\n",
    "    : num_outputs: The number of output that the new tensor should be.\n",
    "    : return: A 2-D tensor where the second dimension is num_outputs.\n",
    "    \"\"\"\n",
    "    shape = x_tensor.get_shape().as_list()\n",
    "    weight = tf.Variable(tf.random_normal([shape[1], num_outputs], stddev=0.1))\n",
    "    bias = tf.Variable(tf.random_normal([num_outputs], stddev=0.1))\n",
    "    \n",
    "    out = tf.add(tf.matmul(x_tensor, weight), bias)\n",
    "    return out\n",
    "\n",
    "\n",
    "\"\"\"\n",
    "DON'T MODIFY ANYTHING IN THIS CELL THAT IS BELOW THIS LINE\n",
    "\"\"\"\n",
    "tests.test_output(output)"
   ]
  },
  {
   "cell_type": "markdown",
   "metadata": {},
   "source": [
    "### Create Convolutional Model\n",
    "Implement the function `conv_net` to create a convolutional neural network model. The function takes in a batch of images, `x`, and outputs logits.  Use the layers you created above to create this model:\n",
    "\n",
    "* Apply 1, 2, or 3 Convolution and Max Pool layers\n",
    "* Apply a Flatten Layer\n",
    "* Apply 1, 2, or 3 Fully Connected Layers\n",
    "* Apply an Output Layer\n",
    "* Return the output\n",
    "* Apply [TensorFlow's Dropout](https://www.tensorflow.org/api_docs/python/tf/nn/dropout) to one or more layers in the model using `keep_prob`. "
   ]
  },
  {
   "cell_type": "code",
   "execution_count": 13,
   "metadata": {},
   "outputs": [
    {
     "name": "stdout",
     "output_type": "stream",
     "text": [
      "Start -> Tensor(\"x:0\", shape=(?, 32, 32, 3), dtype=float32)\n",
      "1st conv -> Tensor(\"MaxPool:0\", shape=(?, 16, 16, 32), dtype=float32)\n",
      "1st fully conn -> Tensor(\"Relu_1:0\", shape=(?, 64), dtype=float32)\n",
      "1st dropout -> Tensor(\"dropout/mul:0\", shape=(?, 32), dtype=float32)\n",
      "Start -> Tensor(\"Placeholder:0\", shape=(?, 32, 32, 3), dtype=float32)\n",
      "1st conv -> Tensor(\"MaxPool_1:0\", shape=(?, 16, 16, 32), dtype=float32)\n",
      "1st fully conn -> Tensor(\"Relu_4:0\", shape=(?, 64), dtype=float32)\n",
      "1st dropout -> Tensor(\"dropout_1/mul:0\", shape=(?, 32), dtype=float32)\n",
      "Neural Network Built!\n"
     ]
    }
   ],
   "source": [
    "def conv_net(x, keep_prob):\n",
    "    \"\"\"\n",
    "    Create a convolutional neural network model\n",
    "    : x: Placeholder tensor that holds image data.\n",
    "    : keep_prob: Placeholder tensor that hold dropout keep probability.\n",
    "    : return: Tensor that represents logits\n",
    "    \"\"\"\n",
    "    # TODO: Apply 1, 2, or 3 Convolution and Max Pool layers\n",
    "    #    Play around with different number of outputs, kernel size and stride\n",
    "    # Function Definition from Above:\n",
    "    #    conv2d_maxpool(x_tensor, conv_num_outputs, conv_ksize, conv_strides, pool_ksize, pool_strides)\n",
    "    print(\"Start -> {}\".format(x))\n",
    "    x = conv2d_maxpool(x, 32, (2, 2), (1, 1), (2, 2), (2, 2))\n",
    "    print(\"1st conv -> {}\".format(x))\n",
    "    #x = conv2d_maxpool(x, 64, (2, 2), (1, 1), (2, 2), (1, 1))\n",
    "    #print(\"2nd conv -> {}\".format(x))\n",
    " \n",
    "    # TODO: Apply a Flatten Layer\n",
    "    # Function Definition from Above:\n",
    "    #   flatten(x_tensor)\n",
    "    x = flatten(x)\n",
    "\n",
    "    # TODO: Apply 1, 2, or 3 Fully Connected Layers\n",
    "    #    Play around with different number of outputs\n",
    "    # Function Definition from Above:\n",
    "    #   fully_conn(x_tensor, num_outputs)\n",
    "    x = fully_conn(x, 64)\n",
    "    print(\"1st fully conn -> {}\".format(x))\n",
    "    #x = tf.nn.dropout(x, keep_prob)\n",
    "    #print(\"1st dropout -> {}\".format(x))\n",
    "    x = fully_conn(x, 32)\n",
    "    #print(\"2nd fully conn -> {}\".format(x))\n",
    "    x = tf.nn.dropout(x, keep_prob)\n",
    "    print(\"1st dropout -> {}\".format(x))\n",
    "    \n",
    "    # TODO: Apply an Output Layer\n",
    "    #    Set this to the number of classes\n",
    "    # Function Definition from Above:\n",
    "    #   output(x_tensor, num_outputs)\n",
    "    x = output(x, 10)\n",
    "    \n",
    "    # TODO: return output\n",
    "    return x\n",
    "\n",
    "\n",
    "\"\"\"\n",
    "DON'T MODIFY ANYTHING IN THIS CELL THAT IS BELOW THIS LINE\n",
    "\"\"\"\n",
    "\n",
    "##############################\n",
    "## Build the Neural Network ##\n",
    "##############################\n",
    "\n",
    "# Remove previous weights, bias, inputs, etc..\n",
    "tf.reset_default_graph()\n",
    "\n",
    "# Inputs\n",
    "x = neural_net_image_input((32, 32, 3))\n",
    "y = neural_net_label_input(10)\n",
    "keep_prob = neural_net_keep_prob_input()\n",
    "\n",
    "# Model\n",
    "logits = conv_net(x, keep_prob)\n",
    "\n",
    "# Name logits Tensor, so that is can be loaded from disk after training\n",
    "logits = tf.identity(logits, name='logits')\n",
    "\n",
    "# Loss and Optimizer\n",
    "cost = tf.reduce_mean(tf.nn.softmax_cross_entropy_with_logits(logits=logits, labels=y))\n",
    "optimizer = tf.train.AdamOptimizer().minimize(cost)\n",
    "\n",
    "# Accuracy\n",
    "correct_pred = tf.equal(tf.argmax(logits, 1), tf.argmax(y, 1))\n",
    "accuracy = tf.reduce_mean(tf.cast(correct_pred, tf.float32), name='accuracy')\n",
    "\n",
    "tests.test_conv_net(conv_net)"
   ]
  },
  {
   "cell_type": "markdown",
   "metadata": {},
   "source": [
    "## Train the Neural Network\n",
    "### Single Optimization\n",
    "Implement the function `train_neural_network` to do a single optimization.  The optimization should use `optimizer` to optimize in `session` with a `feed_dict` of the following:\n",
    "* `x` for image input\n",
    "* `y` for labels\n",
    "* `keep_prob` for keep probability for dropout\n",
    "\n",
    "This function will be called for each batch, so `tf.global_variables_initializer()` has already been called.\n",
    "\n",
    "Note: Nothing needs to be returned. This function is only optimizing the neural network."
   ]
  },
  {
   "cell_type": "code",
   "execution_count": 14,
   "metadata": {},
   "outputs": [
    {
     "name": "stdout",
     "output_type": "stream",
     "text": [
      "Tests Passed\n"
     ]
    }
   ],
   "source": [
    "def train_neural_network(session, optimizer, keep_probability, feature_batch, label_batch):\n",
    "    \"\"\"\n",
    "    Optimize the session on a batch of images and labels\n",
    "    : session: Current TensorFlow session\n",
    "    : optimizer: TensorFlow optimizer function\n",
    "    : keep_probability: keep probability\n",
    "    : feature_batch: Batch of Numpy image data\n",
    "    : label_batch: Batch of Numpy label data\n",
    "    \"\"\"\n",
    "    session.run(optimizer, feed_dict={\n",
    "                x: feature_batch,\n",
    "                y: label_batch,\n",
    "                keep_prob: keep_probability})\n",
    "\n",
    "\"\"\"\n",
    "DON'T MODIFY ANYTHING IN THIS CELL THAT IS BELOW THIS LINE\n",
    "\"\"\"\n",
    "tests.test_train_nn(train_neural_network)"
   ]
  },
  {
   "cell_type": "markdown",
   "metadata": {},
   "source": [
    "### Show Stats\n",
    "Implement the function `print_stats` to print loss and validation accuracy.  Use the global variables `valid_features` and `valid_labels` to calculate validation accuracy.  Use a keep probability of `1.0` to calculate the loss and validation accuracy."
   ]
  },
  {
   "cell_type": "code",
   "execution_count": 15,
   "metadata": {
    "collapsed": true
   },
   "outputs": [],
   "source": [
    "def print_stats(session, feature_batch, label_batch, cost, accuracy):\n",
    "    \"\"\"\n",
    "    Print information about loss and validation accuracy\n",
    "    : session: Current TensorFlow session\n",
    "    : feature_batch: Batch of Numpy image data\n",
    "    : label_batch: Batch of Numpy label data\n",
    "    : cost: TensorFlow cost function\n",
    "    : accuracy: TensorFlow accuracy function\n",
    "    \"\"\"\n",
    "    loss = session.run(cost, feed_dict={\n",
    "        x: feature_batch,\n",
    "        y: label_batch,\n",
    "        keep_prob: 1.})\n",
    "    valid_acc = session.run(accuracy, feed_dict={\n",
    "        x: valid_features,\n",
    "        y: valid_labels,\n",
    "        keep_prob: 1.})\n",
    "\n",
    "    print('Loss: {:>10.4f} Validation Accuracy: {:.6f}'.format(\n",
    "        loss,\n",
    "        valid_acc))"
   ]
  },
  {
   "cell_type": "markdown",
   "metadata": {},
   "source": [
    "### Hyperparameters\n",
    "Tune the following parameters:\n",
    "* Set `epochs` to the number of iterations until the network stops learning or start overfitting\n",
    "* Set `batch_size` to the highest number that your machine has memory for.  Most people set them to common sizes of memory:\n",
    " * 64\n",
    " * 128\n",
    " * 256\n",
    " * ...\n",
    "* Set `keep_probability` to the probability of keeping a node using dropout"
   ]
  },
  {
   "cell_type": "code",
   "execution_count": 16,
   "metadata": {
    "collapsed": true
   },
   "outputs": [],
   "source": [
    "# TODO: Tune Parameters\n",
    "epochs = 50\n",
    "batch_size = 256\n",
    "keep_probability = 0.75"
   ]
  },
  {
   "cell_type": "markdown",
   "metadata": {},
   "source": [
    "### Train on a Single CIFAR-10 Batch\n",
    "Instead of training the neural network on all the CIFAR-10 batches of data, let's use a single batch. This should save time while you iterate on the model to get a better accuracy.  Once the final validation accuracy is 50% or greater, run the model on all the data in the next section."
   ]
  },
  {
   "cell_type": "code",
   "execution_count": 17,
   "metadata": {},
   "outputs": [
    {
     "name": "stdout",
     "output_type": "stream",
     "text": [
      "Checking the Training on a Single Batch...\n",
      "Epoch  1, CIFAR-10 Batch 1:  Loss:     2.2105 Validation Accuracy: 0.201800\n",
      "Epoch  2, CIFAR-10 Batch 1:  Loss:     2.1179 Validation Accuracy: 0.258800\n",
      "Epoch  3, CIFAR-10 Batch 1:  Loss:     2.0122 Validation Accuracy: 0.290400\n",
      "Epoch  4, CIFAR-10 Batch 1:  Loss:     1.8708 Validation Accuracy: 0.321400\n",
      "Epoch  5, CIFAR-10 Batch 1:  Loss:     1.8062 Validation Accuracy: 0.359400\n",
      "Epoch  6, CIFAR-10 Batch 1:  Loss:     1.6884 Validation Accuracy: 0.372400\n",
      "Epoch  7, CIFAR-10 Batch 1:  Loss:     1.5916 Validation Accuracy: 0.397200\n",
      "Epoch  8, CIFAR-10 Batch 1:  Loss:     1.5258 Validation Accuracy: 0.409000\n",
      "Epoch  9, CIFAR-10 Batch 1:  Loss:     1.4469 Validation Accuracy: 0.408600\n",
      "Epoch 10, CIFAR-10 Batch 1:  Loss:     1.3452 Validation Accuracy: 0.423800\n",
      "Epoch 11, CIFAR-10 Batch 1:  Loss:     1.2888 Validation Accuracy: 0.439800\n",
      "Epoch 12, CIFAR-10 Batch 1:  Loss:     1.2231 Validation Accuracy: 0.431600\n",
      "Epoch 13, CIFAR-10 Batch 1:  Loss:     1.1516 Validation Accuracy: 0.436400\n",
      "Epoch 14, CIFAR-10 Batch 1:  Loss:     1.0901 Validation Accuracy: 0.450600\n",
      "Epoch 15, CIFAR-10 Batch 1:  Loss:     1.0737 Validation Accuracy: 0.449800\n",
      "Epoch 16, CIFAR-10 Batch 1:  Loss:     0.9883 Validation Accuracy: 0.455600\n",
      "Epoch 17, CIFAR-10 Batch 1:  Loss:     0.9420 Validation Accuracy: 0.469400\n",
      "Epoch 18, CIFAR-10 Batch 1:  Loss:     0.8768 Validation Accuracy: 0.489000\n",
      "Epoch 19, CIFAR-10 Batch 1:  Loss:     0.8697 Validation Accuracy: 0.486000\n",
      "Epoch 20, CIFAR-10 Batch 1:  Loss:     0.8300 Validation Accuracy: 0.487000\n",
      "Epoch 21, CIFAR-10 Batch 1:  Loss:     0.8368 Validation Accuracy: 0.483000\n",
      "Epoch 22, CIFAR-10 Batch 1:  Loss:     0.7684 Validation Accuracy: 0.488200\n",
      "Epoch 23, CIFAR-10 Batch 1:  Loss:     0.7293 Validation Accuracy: 0.492800\n",
      "Epoch 24, CIFAR-10 Batch 1:  Loss:     0.7132 Validation Accuracy: 0.492200\n",
      "Epoch 25, CIFAR-10 Batch 1:  Loss:     0.7267 Validation Accuracy: 0.481400\n",
      "Epoch 26, CIFAR-10 Batch 1:  Loss:     0.6556 Validation Accuracy: 0.499600\n",
      "Epoch 27, CIFAR-10 Batch 1:  Loss:     0.6244 Validation Accuracy: 0.497400\n",
      "Epoch 28, CIFAR-10 Batch 1:  Loss:     0.6185 Validation Accuracy: 0.498600\n",
      "Epoch 29, CIFAR-10 Batch 1:  Loss:     0.5527 Validation Accuracy: 0.504600\n",
      "Epoch 30, CIFAR-10 Batch 1:  Loss:     0.5385 Validation Accuracy: 0.507800\n",
      "Epoch 31, CIFAR-10 Batch 1:  Loss:     0.5171 Validation Accuracy: 0.489600\n",
      "Epoch 32, CIFAR-10 Batch 1:  Loss:     0.4778 Validation Accuracy: 0.513400\n",
      "Epoch 33, CIFAR-10 Batch 1:  Loss:     0.4590 Validation Accuracy: 0.510600\n",
      "Epoch 34, CIFAR-10 Batch 1:  Loss:     0.4674 Validation Accuracy: 0.517600\n",
      "Epoch 35, CIFAR-10 Batch 1:  Loss:     0.4567 Validation Accuracy: 0.483200\n",
      "Epoch 36, CIFAR-10 Batch 1:  Loss:     0.4247 Validation Accuracy: 0.514600\n",
      "Epoch 37, CIFAR-10 Batch 1:  Loss:     0.3852 Validation Accuracy: 0.511400\n",
      "Epoch 38, CIFAR-10 Batch 1:  Loss:     0.4111 Validation Accuracy: 0.504200\n",
      "Epoch 39, CIFAR-10 Batch 1:  Loss:     0.4348 Validation Accuracy: 0.504800\n",
      "Epoch 40, CIFAR-10 Batch 1:  Loss:     0.3906 Validation Accuracy: 0.505600\n",
      "Epoch 41, CIFAR-10 Batch 1:  Loss:     0.3788 Validation Accuracy: 0.494800\n",
      "Epoch 42, CIFAR-10 Batch 1:  Loss:     0.3417 Validation Accuracy: 0.496400\n",
      "Epoch 43, CIFAR-10 Batch 1:  Loss:     0.3201 Validation Accuracy: 0.508000\n",
      "Epoch 44, CIFAR-10 Batch 1:  Loss:     0.3066 Validation Accuracy: 0.498000\n",
      "Epoch 45, CIFAR-10 Batch 1:  Loss:     0.3000 Validation Accuracy: 0.514000\n",
      "Epoch 46, CIFAR-10 Batch 1:  Loss:     0.2920 Validation Accuracy: 0.509200\n",
      "Epoch 47, CIFAR-10 Batch 1:  Loss:     0.2833 Validation Accuracy: 0.506400\n",
      "Epoch 48, CIFAR-10 Batch 1:  Loss:     0.2527 Validation Accuracy: 0.511800\n",
      "Epoch 49, CIFAR-10 Batch 1:  Loss:     0.2767 Validation Accuracy: 0.509600\n",
      "Epoch 50, CIFAR-10 Batch 1:  Loss:     0.2568 Validation Accuracy: 0.517400\n"
     ]
    }
   ],
   "source": [
    "\"\"\"\n",
    "DON'T MODIFY ANYTHING IN THIS CELL\n",
    "\"\"\"\n",
    "print('Checking the Training on a Single Batch...')\n",
    "with tf.Session() as sess:\n",
    "    # Initializing the variables\n",
    "    sess.run(tf.global_variables_initializer())\n",
    "    \n",
    "    # Training cycle\n",
    "    for epoch in range(epochs):\n",
    "        batch_i = 1\n",
    "        for batch_features, batch_labels in helper.load_preprocess_training_batch(batch_i, batch_size):\n",
    "            train_neural_network(sess, optimizer, keep_probability, batch_features, batch_labels)\n",
    "        print('Epoch {:>2}, CIFAR-10 Batch {}:  '.format(epoch + 1, batch_i), end='')\n",
    "        print_stats(sess, batch_features, batch_labels, cost, accuracy)"
   ]
  },
  {
   "cell_type": "markdown",
   "metadata": {},
   "source": [
    "### Fully Train the Model\n",
    "Now that you got a good accuracy with a single CIFAR-10 batch, try it with all five batches."
   ]
  },
  {
   "cell_type": "code",
   "execution_count": 18,
   "metadata": {},
   "outputs": [
    {
     "name": "stdout",
     "output_type": "stream",
     "text": [
      "Training...\n",
      "Epoch  1, CIFAR-10 Batch 1:  Loss:     2.2209 Validation Accuracy: 0.197000\n",
      "Epoch  1, CIFAR-10 Batch 2:  Loss:     2.0543 Validation Accuracy: 0.267200\n",
      "Epoch  1, CIFAR-10 Batch 3:  Loss:     1.7777 Validation Accuracy: 0.297200\n",
      "Epoch  1, CIFAR-10 Batch 4:  Loss:     1.7702 Validation Accuracy: 0.341000\n",
      "Epoch  1, CIFAR-10 Batch 5:  Loss:     1.7397 Validation Accuracy: 0.375200\n",
      "Epoch  2, CIFAR-10 Batch 1:  Loss:     1.9345 Validation Accuracy: 0.370000\n",
      "Epoch  2, CIFAR-10 Batch 2:  Loss:     1.5947 Validation Accuracy: 0.400600\n",
      "Epoch  2, CIFAR-10 Batch 3:  Loss:     1.4057 Validation Accuracy: 0.407400\n",
      "Epoch  2, CIFAR-10 Batch 4:  Loss:     1.4686 Validation Accuracy: 0.426600\n",
      "Epoch  2, CIFAR-10 Batch 5:  Loss:     1.5294 Validation Accuracy: 0.439800\n",
      "Epoch  3, CIFAR-10 Batch 1:  Loss:     1.7490 Validation Accuracy: 0.435000\n",
      "Epoch  3, CIFAR-10 Batch 2:  Loss:     1.3089 Validation Accuracy: 0.449600\n",
      "Epoch  3, CIFAR-10 Batch 3:  Loss:     1.1731 Validation Accuracy: 0.456800\n",
      "Epoch  3, CIFAR-10 Batch 4:  Loss:     1.2777 Validation Accuracy: 0.470600\n",
      "Epoch  3, CIFAR-10 Batch 5:  Loss:     1.3830 Validation Accuracy: 0.475400\n",
      "Epoch  4, CIFAR-10 Batch 1:  Loss:     1.5023 Validation Accuracy: 0.493800\n",
      "Epoch  4, CIFAR-10 Batch 2:  Loss:     1.1191 Validation Accuracy: 0.487400\n",
      "Epoch  4, CIFAR-10 Batch 3:  Loss:     1.0199 Validation Accuracy: 0.501000\n",
      "Epoch  4, CIFAR-10 Batch 4:  Loss:     1.1372 Validation Accuracy: 0.494400\n",
      "Epoch  4, CIFAR-10 Batch 5:  Loss:     1.2304 Validation Accuracy: 0.511600\n",
      "Epoch  5, CIFAR-10 Batch 1:  Loss:     1.3204 Validation Accuracy: 0.510600\n",
      "Epoch  5, CIFAR-10 Batch 2:  Loss:     0.9367 Validation Accuracy: 0.511800\n",
      "Epoch  5, CIFAR-10 Batch 3:  Loss:     0.9448 Validation Accuracy: 0.518000\n",
      "Epoch  5, CIFAR-10 Batch 4:  Loss:     1.0379 Validation Accuracy: 0.529200\n",
      "Epoch  5, CIFAR-10 Batch 5:  Loss:     1.1276 Validation Accuracy: 0.534600\n",
      "Epoch  6, CIFAR-10 Batch 1:  Loss:     1.1733 Validation Accuracy: 0.525400\n",
      "Epoch  6, CIFAR-10 Batch 2:  Loss:     0.8060 Validation Accuracy: 0.529200\n",
      "Epoch  6, CIFAR-10 Batch 3:  Loss:     0.8339 Validation Accuracy: 0.534400\n",
      "Epoch  6, CIFAR-10 Batch 4:  Loss:     0.9792 Validation Accuracy: 0.536000\n",
      "Epoch  6, CIFAR-10 Batch 5:  Loss:     1.0348 Validation Accuracy: 0.547400\n",
      "Epoch  7, CIFAR-10 Batch 1:  Loss:     1.0925 Validation Accuracy: 0.543600\n",
      "Epoch  7, CIFAR-10 Batch 2:  Loss:     0.7196 Validation Accuracy: 0.541400\n",
      "Epoch  7, CIFAR-10 Batch 3:  Loss:     0.7830 Validation Accuracy: 0.541400\n",
      "Epoch  7, CIFAR-10 Batch 4:  Loss:     0.9345 Validation Accuracy: 0.544800\n",
      "Epoch  7, CIFAR-10 Batch 5:  Loss:     0.9687 Validation Accuracy: 0.553000\n",
      "Epoch  8, CIFAR-10 Batch 1:  Loss:     0.9936 Validation Accuracy: 0.547600\n",
      "Epoch  8, CIFAR-10 Batch 2:  Loss:     0.6496 Validation Accuracy: 0.544200\n",
      "Epoch  8, CIFAR-10 Batch 3:  Loss:     0.7041 Validation Accuracy: 0.547600\n",
      "Epoch  8, CIFAR-10 Batch 4:  Loss:     0.8606 Validation Accuracy: 0.548800\n",
      "Epoch  8, CIFAR-10 Batch 5:  Loss:     0.9042 Validation Accuracy: 0.558800\n",
      "Epoch  9, CIFAR-10 Batch 1:  Loss:     0.9135 Validation Accuracy: 0.561200\n",
      "Epoch  9, CIFAR-10 Batch 2:  Loss:     0.6007 Validation Accuracy: 0.544200\n",
      "Epoch  9, CIFAR-10 Batch 3:  Loss:     0.6686 Validation Accuracy: 0.549200\n",
      "Epoch  9, CIFAR-10 Batch 4:  Loss:     0.7817 Validation Accuracy: 0.567600\n",
      "Epoch  9, CIFAR-10 Batch 5:  Loss:     0.8213 Validation Accuracy: 0.569000\n",
      "Epoch 10, CIFAR-10 Batch 1:  Loss:     0.8745 Validation Accuracy: 0.567200\n",
      "Epoch 10, CIFAR-10 Batch 2:  Loss:     0.5510 Validation Accuracy: 0.550200\n",
      "Epoch 10, CIFAR-10 Batch 3:  Loss:     0.5938 Validation Accuracy: 0.566400\n",
      "Epoch 10, CIFAR-10 Batch 4:  Loss:     0.7081 Validation Accuracy: 0.571200\n",
      "Epoch 10, CIFAR-10 Batch 5:  Loss:     0.7170 Validation Accuracy: 0.573000\n",
      "Epoch 11, CIFAR-10 Batch 1:  Loss:     0.8102 Validation Accuracy: 0.565800\n",
      "Epoch 11, CIFAR-10 Batch 2:  Loss:     0.5078 Validation Accuracy: 0.562800\n",
      "Epoch 11, CIFAR-10 Batch 3:  Loss:     0.5399 Validation Accuracy: 0.572000\n",
      "Epoch 11, CIFAR-10 Batch 4:  Loss:     0.6494 Validation Accuracy: 0.571600\n",
      "Epoch 11, CIFAR-10 Batch 5:  Loss:     0.6587 Validation Accuracy: 0.578200\n",
      "Epoch 12, CIFAR-10 Batch 1:  Loss:     0.7522 Validation Accuracy: 0.575600\n",
      "Epoch 12, CIFAR-10 Batch 2:  Loss:     0.4618 Validation Accuracy: 0.564400\n",
      "Epoch 12, CIFAR-10 Batch 3:  Loss:     0.4951 Validation Accuracy: 0.578600\n",
      "Epoch 12, CIFAR-10 Batch 4:  Loss:     0.6187 Validation Accuracy: 0.578800\n",
      "Epoch 12, CIFAR-10 Batch 5:  Loss:     0.6037 Validation Accuracy: 0.581600\n",
      "Epoch 13, CIFAR-10 Batch 1:  Loss:     0.7381 Validation Accuracy: 0.574000\n",
      "Epoch 13, CIFAR-10 Batch 2:  Loss:     0.4195 Validation Accuracy: 0.552800\n",
      "Epoch 13, CIFAR-10 Batch 3:  Loss:     0.4833 Validation Accuracy: 0.578800\n",
      "Epoch 13, CIFAR-10 Batch 4:  Loss:     0.6140 Validation Accuracy: 0.567600\n",
      "Epoch 13, CIFAR-10 Batch 5:  Loss:     0.5642 Validation Accuracy: 0.585600\n",
      "Epoch 14, CIFAR-10 Batch 1:  Loss:     0.6880 Validation Accuracy: 0.579200\n",
      "Epoch 14, CIFAR-10 Batch 2:  Loss:     0.3926 Validation Accuracy: 0.556600\n",
      "Epoch 14, CIFAR-10 Batch 3:  Loss:     0.4197 Validation Accuracy: 0.585800\n",
      "Epoch 14, CIFAR-10 Batch 4:  Loss:     0.5905 Validation Accuracy: 0.574000\n",
      "Epoch 14, CIFAR-10 Batch 5:  Loss:     0.5461 Validation Accuracy: 0.586400\n",
      "Epoch 15, CIFAR-10 Batch 1:  Loss:     0.6230 Validation Accuracy: 0.587000\n",
      "Epoch 15, CIFAR-10 Batch 2:  Loss:     0.3674 Validation Accuracy: 0.568200\n",
      "Epoch 15, CIFAR-10 Batch 3:  Loss:     0.4152 Validation Accuracy: 0.580200\n",
      "Epoch 15, CIFAR-10 Batch 4:  Loss:     0.5364 Validation Accuracy: 0.576600\n",
      "Epoch 15, CIFAR-10 Batch 5:  Loss:     0.4986 Validation Accuracy: 0.581800\n",
      "Epoch 16, CIFAR-10 Batch 1:  Loss:     0.6151 Validation Accuracy: 0.586600\n",
      "Epoch 16, CIFAR-10 Batch 2:  Loss:     0.3339 Validation Accuracy: 0.570400\n",
      "Epoch 16, CIFAR-10 Batch 3:  Loss:     0.3871 Validation Accuracy: 0.584400\n",
      "Epoch 16, CIFAR-10 Batch 4:  Loss:     0.4973 Validation Accuracy: 0.588200\n",
      "Epoch 16, CIFAR-10 Batch 5:  Loss:     0.4260 Validation Accuracy: 0.592600\n",
      "Epoch 17, CIFAR-10 Batch 1:  Loss:     0.6029 Validation Accuracy: 0.588400\n",
      "Epoch 17, CIFAR-10 Batch 2:  Loss:     0.3162 Validation Accuracy: 0.574000\n",
      "Epoch 17, CIFAR-10 Batch 3:  Loss:     0.3499 Validation Accuracy: 0.591600\n",
      "Epoch 17, CIFAR-10 Batch 4:  Loss:     0.4677 Validation Accuracy: 0.581400\n",
      "Epoch 17, CIFAR-10 Batch 5:  Loss:     0.3890 Validation Accuracy: 0.587000\n",
      "Epoch 18, CIFAR-10 Batch 1:  Loss:     0.5397 Validation Accuracy: 0.588200\n",
      "Epoch 18, CIFAR-10 Batch 2:  Loss:     0.3104 Validation Accuracy: 0.576800\n",
      "Epoch 18, CIFAR-10 Batch 3:  Loss:     0.3407 Validation Accuracy: 0.590000\n",
      "Epoch 18, CIFAR-10 Batch 4:  Loss:     0.4421 Validation Accuracy: 0.587400\n",
      "Epoch 18, CIFAR-10 Batch 5:  Loss:     0.3721 Validation Accuracy: 0.588600\n",
      "Epoch 19, CIFAR-10 Batch 1:  Loss:     0.5256 Validation Accuracy: 0.598200\n",
      "Epoch 19, CIFAR-10 Batch 2:  Loss:     0.2694 Validation Accuracy: 0.572400\n",
      "Epoch 19, CIFAR-10 Batch 3:  Loss:     0.3197 Validation Accuracy: 0.586200\n",
      "Epoch 19, CIFAR-10 Batch 4:  Loss:     0.4232 Validation Accuracy: 0.594000\n",
      "Epoch 19, CIFAR-10 Batch 5:  Loss:     0.3360 Validation Accuracy: 0.588200\n",
      "Epoch 20, CIFAR-10 Batch 1:  Loss:     0.4825 Validation Accuracy: 0.597800\n",
      "Epoch 20, CIFAR-10 Batch 2:  Loss:     0.2506 Validation Accuracy: 0.577400\n",
      "Epoch 20, CIFAR-10 Batch 3:  Loss:     0.3122 Validation Accuracy: 0.581600\n",
      "Epoch 20, CIFAR-10 Batch 4:  Loss:     0.3801 Validation Accuracy: 0.593200\n",
      "Epoch 20, CIFAR-10 Batch 5:  Loss:     0.3289 Validation Accuracy: 0.596200\n",
      "Epoch 21, CIFAR-10 Batch 1:  Loss:     0.4680 Validation Accuracy: 0.592600\n",
      "Epoch 21, CIFAR-10 Batch 2:  Loss:     0.2338 Validation Accuracy: 0.571800\n",
      "Epoch 21, CIFAR-10 Batch 3:  Loss:     0.2966 Validation Accuracy: 0.588400\n",
      "Epoch 21, CIFAR-10 Batch 4:  Loss:     0.3608 Validation Accuracy: 0.592800\n",
      "Epoch 21, CIFAR-10 Batch 5:  Loss:     0.2928 Validation Accuracy: 0.597200\n",
      "Epoch 22, CIFAR-10 Batch 1:  Loss:     0.4490 Validation Accuracy: 0.590000\n",
      "Epoch 22, CIFAR-10 Batch 2:  Loss:     0.2386 Validation Accuracy: 0.565000\n",
      "Epoch 22, CIFAR-10 Batch 3:  Loss:     0.2787 Validation Accuracy: 0.593400\n"
     ]
    },
    {
     "name": "stdout",
     "output_type": "stream",
     "text": [
      "Epoch 22, CIFAR-10 Batch 4:  Loss:     0.3414 Validation Accuracy: 0.598000\n",
      "Epoch 22, CIFAR-10 Batch 5:  Loss:     0.2843 Validation Accuracy: 0.599000\n",
      "Epoch 23, CIFAR-10 Batch 1:  Loss:     0.4493 Validation Accuracy: 0.598600\n",
      "Epoch 23, CIFAR-10 Batch 2:  Loss:     0.2141 Validation Accuracy: 0.572200\n",
      "Epoch 23, CIFAR-10 Batch 3:  Loss:     0.2794 Validation Accuracy: 0.590600\n",
      "Epoch 23, CIFAR-10 Batch 4:  Loss:     0.3350 Validation Accuracy: 0.592000\n",
      "Epoch 23, CIFAR-10 Batch 5:  Loss:     0.2534 Validation Accuracy: 0.599200\n",
      "Epoch 24, CIFAR-10 Batch 1:  Loss:     0.4142 Validation Accuracy: 0.606200\n",
      "Epoch 24, CIFAR-10 Batch 2:  Loss:     0.2025 Validation Accuracy: 0.582000\n",
      "Epoch 24, CIFAR-10 Batch 3:  Loss:     0.2714 Validation Accuracy: 0.589200\n",
      "Epoch 24, CIFAR-10 Batch 4:  Loss:     0.3038 Validation Accuracy: 0.595200\n",
      "Epoch 24, CIFAR-10 Batch 5:  Loss:     0.2483 Validation Accuracy: 0.598600\n",
      "Epoch 25, CIFAR-10 Batch 1:  Loss:     0.4182 Validation Accuracy: 0.604200\n",
      "Epoch 25, CIFAR-10 Batch 2:  Loss:     0.1969 Validation Accuracy: 0.588200\n",
      "Epoch 25, CIFAR-10 Batch 3:  Loss:     0.2432 Validation Accuracy: 0.590200\n",
      "Epoch 25, CIFAR-10 Batch 4:  Loss:     0.2885 Validation Accuracy: 0.603400\n",
      "Epoch 25, CIFAR-10 Batch 5:  Loss:     0.2287 Validation Accuracy: 0.599600\n",
      "Epoch 26, CIFAR-10 Batch 1:  Loss:     0.4175 Validation Accuracy: 0.610600\n",
      "Epoch 26, CIFAR-10 Batch 2:  Loss:     0.1828 Validation Accuracy: 0.580400\n",
      "Epoch 26, CIFAR-10 Batch 3:  Loss:     0.2281 Validation Accuracy: 0.593800\n",
      "Epoch 26, CIFAR-10 Batch 4:  Loss:     0.2894 Validation Accuracy: 0.602200\n",
      "Epoch 26, CIFAR-10 Batch 5:  Loss:     0.1977 Validation Accuracy: 0.604800\n",
      "Epoch 27, CIFAR-10 Batch 1:  Loss:     0.3997 Validation Accuracy: 0.604200\n",
      "Epoch 27, CIFAR-10 Batch 2:  Loss:     0.1728 Validation Accuracy: 0.587600\n",
      "Epoch 27, CIFAR-10 Batch 3:  Loss:     0.2253 Validation Accuracy: 0.599000\n",
      "Epoch 27, CIFAR-10 Batch 4:  Loss:     0.2725 Validation Accuracy: 0.604200\n",
      "Epoch 27, CIFAR-10 Batch 5:  Loss:     0.1861 Validation Accuracy: 0.606000\n",
      "Epoch 28, CIFAR-10 Batch 1:  Loss:     0.3867 Validation Accuracy: 0.603800\n",
      "Epoch 28, CIFAR-10 Batch 2:  Loss:     0.1807 Validation Accuracy: 0.583600\n",
      "Epoch 28, CIFAR-10 Batch 3:  Loss:     0.2274 Validation Accuracy: 0.594000\n",
      "Epoch 28, CIFAR-10 Batch 4:  Loss:     0.2648 Validation Accuracy: 0.604600\n",
      "Epoch 28, CIFAR-10 Batch 5:  Loss:     0.1819 Validation Accuracy: 0.602000\n",
      "Epoch 29, CIFAR-10 Batch 1:  Loss:     0.3737 Validation Accuracy: 0.598400\n",
      "Epoch 29, CIFAR-10 Batch 2:  Loss:     0.1752 Validation Accuracy: 0.578400\n",
      "Epoch 29, CIFAR-10 Batch 3:  Loss:     0.2161 Validation Accuracy: 0.602000\n",
      "Epoch 29, CIFAR-10 Batch 4:  Loss:     0.2613 Validation Accuracy: 0.600400\n",
      "Epoch 29, CIFAR-10 Batch 5:  Loss:     0.1816 Validation Accuracy: 0.602200\n",
      "Epoch 30, CIFAR-10 Batch 1:  Loss:     0.3537 Validation Accuracy: 0.601400\n",
      "Epoch 30, CIFAR-10 Batch 2:  Loss:     0.1866 Validation Accuracy: 0.564600\n",
      "Epoch 30, CIFAR-10 Batch 3:  Loss:     0.2308 Validation Accuracy: 0.597000\n",
      "Epoch 30, CIFAR-10 Batch 4:  Loss:     0.2424 Validation Accuracy: 0.593400\n",
      "Epoch 30, CIFAR-10 Batch 5:  Loss:     0.1705 Validation Accuracy: 0.617600\n",
      "Epoch 31, CIFAR-10 Batch 1:  Loss:     0.3567 Validation Accuracy: 0.594600\n",
      "Epoch 31, CIFAR-10 Batch 2:  Loss:     0.1937 Validation Accuracy: 0.566200\n",
      "Epoch 31, CIFAR-10 Batch 3:  Loss:     0.2026 Validation Accuracy: 0.596200\n",
      "Epoch 31, CIFAR-10 Batch 4:  Loss:     0.2220 Validation Accuracy: 0.605800\n",
      "Epoch 31, CIFAR-10 Batch 5:  Loss:     0.1754 Validation Accuracy: 0.614000\n",
      "Epoch 32, CIFAR-10 Batch 1:  Loss:     0.3533 Validation Accuracy: 0.602600\n",
      "Epoch 32, CIFAR-10 Batch 2:  Loss:     0.1932 Validation Accuracy: 0.580400\n",
      "Epoch 32, CIFAR-10 Batch 3:  Loss:     0.2022 Validation Accuracy: 0.604000\n",
      "Epoch 32, CIFAR-10 Batch 4:  Loss:     0.2178 Validation Accuracy: 0.605200\n",
      "Epoch 32, CIFAR-10 Batch 5:  Loss:     0.1776 Validation Accuracy: 0.611200\n",
      "Epoch 33, CIFAR-10 Batch 1:  Loss:     0.3187 Validation Accuracy: 0.596200\n",
      "Epoch 33, CIFAR-10 Batch 2:  Loss:     0.1897 Validation Accuracy: 0.580000\n",
      "Epoch 33, CIFAR-10 Batch 3:  Loss:     0.1943 Validation Accuracy: 0.594600\n",
      "Epoch 33, CIFAR-10 Batch 4:  Loss:     0.2252 Validation Accuracy: 0.609800\n",
      "Epoch 33, CIFAR-10 Batch 5:  Loss:     0.1631 Validation Accuracy: 0.603000\n",
      "Epoch 34, CIFAR-10 Batch 1:  Loss:     0.3133 Validation Accuracy: 0.597200\n",
      "Epoch 34, CIFAR-10 Batch 2:  Loss:     0.1553 Validation Accuracy: 0.591600\n",
      "Epoch 34, CIFAR-10 Batch 3:  Loss:     0.1997 Validation Accuracy: 0.591000\n",
      "Epoch 34, CIFAR-10 Batch 4:  Loss:     0.2185 Validation Accuracy: 0.610800\n",
      "Epoch 34, CIFAR-10 Batch 5:  Loss:     0.1569 Validation Accuracy: 0.607200\n",
      "Epoch 35, CIFAR-10 Batch 1:  Loss:     0.3110 Validation Accuracy: 0.599800\n",
      "Epoch 35, CIFAR-10 Batch 2:  Loss:     0.1387 Validation Accuracy: 0.590400\n",
      "Epoch 35, CIFAR-10 Batch 3:  Loss:     0.1754 Validation Accuracy: 0.598400\n",
      "Epoch 35, CIFAR-10 Batch 4:  Loss:     0.2033 Validation Accuracy: 0.606200\n",
      "Epoch 35, CIFAR-10 Batch 5:  Loss:     0.1391 Validation Accuracy: 0.607400\n",
      "Epoch 36, CIFAR-10 Batch 1:  Loss:     0.3052 Validation Accuracy: 0.611600\n",
      "Epoch 36, CIFAR-10 Batch 2:  Loss:     0.1327 Validation Accuracy: 0.592200\n",
      "Epoch 36, CIFAR-10 Batch 3:  Loss:     0.1745 Validation Accuracy: 0.598800\n",
      "Epoch 36, CIFAR-10 Batch 4:  Loss:     0.1933 Validation Accuracy: 0.611200\n",
      "Epoch 36, CIFAR-10 Batch 5:  Loss:     0.1469 Validation Accuracy: 0.600000\n",
      "Epoch 37, CIFAR-10 Batch 1:  Loss:     0.2845 Validation Accuracy: 0.606800\n",
      "Epoch 37, CIFAR-10 Batch 2:  Loss:     0.1201 Validation Accuracy: 0.589200\n",
      "Epoch 37, CIFAR-10 Batch 3:  Loss:     0.1654 Validation Accuracy: 0.594600\n",
      "Epoch 37, CIFAR-10 Batch 4:  Loss:     0.1866 Validation Accuracy: 0.605600\n",
      "Epoch 37, CIFAR-10 Batch 5:  Loss:     0.1231 Validation Accuracy: 0.597800\n",
      "Epoch 38, CIFAR-10 Batch 1:  Loss:     0.2881 Validation Accuracy: 0.603400\n",
      "Epoch 38, CIFAR-10 Batch 2:  Loss:     0.1409 Validation Accuracy: 0.589000\n",
      "Epoch 38, CIFAR-10 Batch 3:  Loss:     0.1673 Validation Accuracy: 0.595000\n",
      "Epoch 38, CIFAR-10 Batch 4:  Loss:     0.1746 Validation Accuracy: 0.608000\n",
      "Epoch 38, CIFAR-10 Batch 5:  Loss:     0.1276 Validation Accuracy: 0.590000\n",
      "Epoch 39, CIFAR-10 Batch 1:  Loss:     0.2767 Validation Accuracy: 0.604800\n",
      "Epoch 39, CIFAR-10 Batch 2:  Loss:     0.1184 Validation Accuracy: 0.598800\n",
      "Epoch 39, CIFAR-10 Batch 3:  Loss:     0.1533 Validation Accuracy: 0.597000\n",
      "Epoch 39, CIFAR-10 Batch 4:  Loss:     0.1672 Validation Accuracy: 0.609800\n",
      "Epoch 39, CIFAR-10 Batch 5:  Loss:     0.1092 Validation Accuracy: 0.594400\n",
      "Epoch 40, CIFAR-10 Batch 1:  Loss:     0.2866 Validation Accuracy: 0.601800\n",
      "Epoch 40, CIFAR-10 Batch 2:  Loss:     0.1058 Validation Accuracy: 0.585600\n",
      "Epoch 40, CIFAR-10 Batch 3:  Loss:     0.1454 Validation Accuracy: 0.588000\n",
      "Epoch 40, CIFAR-10 Batch 4:  Loss:     0.1643 Validation Accuracy: 0.601600\n",
      "Epoch 40, CIFAR-10 Batch 5:  Loss:     0.1278 Validation Accuracy: 0.589000\n",
      "Epoch 41, CIFAR-10 Batch 1:  Loss:     0.2710 Validation Accuracy: 0.598000\n",
      "Epoch 41, CIFAR-10 Batch 2:  Loss:     0.1173 Validation Accuracy: 0.575400\n",
      "Epoch 41, CIFAR-10 Batch 3:  Loss:     0.1432 Validation Accuracy: 0.592000\n",
      "Epoch 41, CIFAR-10 Batch 4:  Loss:     0.1741 Validation Accuracy: 0.599400\n",
      "Epoch 41, CIFAR-10 Batch 5:  Loss:     0.1348 Validation Accuracy: 0.582800\n",
      "Epoch 42, CIFAR-10 Batch 1:  Loss:     0.2947 Validation Accuracy: 0.599200\n",
      "Epoch 42, CIFAR-10 Batch 2:  Loss:     0.1237 Validation Accuracy: 0.576400\n",
      "Epoch 42, CIFAR-10 Batch 3:  Loss:     0.1424 Validation Accuracy: 0.593400\n",
      "Epoch 42, CIFAR-10 Batch 4:  Loss:     0.1804 Validation Accuracy: 0.598000\n",
      "Epoch 42, CIFAR-10 Batch 5:  Loss:     0.1121 Validation Accuracy: 0.589400\n",
      "Epoch 43, CIFAR-10 Batch 1:  Loss:     0.3367 Validation Accuracy: 0.587800\n",
      "Epoch 43, CIFAR-10 Batch 2:  Loss:     0.0902 Validation Accuracy: 0.580200\n",
      "Epoch 43, CIFAR-10 Batch 3:  Loss:     0.1360 Validation Accuracy: 0.596000\n",
      "Epoch 43, CIFAR-10 Batch 4:  Loss:     0.1820 Validation Accuracy: 0.602800\n",
      "Epoch 43, CIFAR-10 Batch 5:  Loss:     0.1206 Validation Accuracy: 0.589200\n",
      "Epoch 44, CIFAR-10 Batch 1:  Loss:     0.3097 Validation Accuracy: 0.587800\n"
     ]
    },
    {
     "name": "stdout",
     "output_type": "stream",
     "text": [
      "Epoch 44, CIFAR-10 Batch 2:  Loss:     0.0977 Validation Accuracy: 0.585000\n",
      "Epoch 44, CIFAR-10 Batch 3:  Loss:     0.1494 Validation Accuracy: 0.595400\n",
      "Epoch 44, CIFAR-10 Batch 4:  Loss:     0.1654 Validation Accuracy: 0.614000\n",
      "Epoch 44, CIFAR-10 Batch 5:  Loss:     0.0947 Validation Accuracy: 0.596200\n",
      "Epoch 45, CIFAR-10 Batch 1:  Loss:     0.2901 Validation Accuracy: 0.590800\n",
      "Epoch 45, CIFAR-10 Batch 2:  Loss:     0.0954 Validation Accuracy: 0.582400\n",
      "Epoch 45, CIFAR-10 Batch 3:  Loss:     0.1368 Validation Accuracy: 0.603800\n",
      "Epoch 45, CIFAR-10 Batch 4:  Loss:     0.1588 Validation Accuracy: 0.602000\n",
      "Epoch 45, CIFAR-10 Batch 5:  Loss:     0.0873 Validation Accuracy: 0.598600\n",
      "Epoch 46, CIFAR-10 Batch 1:  Loss:     0.2687 Validation Accuracy: 0.589400\n",
      "Epoch 46, CIFAR-10 Batch 2:  Loss:     0.0838 Validation Accuracy: 0.583000\n",
      "Epoch 46, CIFAR-10 Batch 3:  Loss:     0.1297 Validation Accuracy: 0.605000\n",
      "Epoch 46, CIFAR-10 Batch 4:  Loss:     0.1528 Validation Accuracy: 0.602200\n",
      "Epoch 46, CIFAR-10 Batch 5:  Loss:     0.0838 Validation Accuracy: 0.602800\n",
      "Epoch 47, CIFAR-10 Batch 1:  Loss:     0.2531 Validation Accuracy: 0.587800\n",
      "Epoch 47, CIFAR-10 Batch 2:  Loss:     0.0809 Validation Accuracy: 0.575000\n",
      "Epoch 47, CIFAR-10 Batch 3:  Loss:     0.1210 Validation Accuracy: 0.596400\n",
      "Epoch 47, CIFAR-10 Batch 4:  Loss:     0.1481 Validation Accuracy: 0.605200\n",
      "Epoch 47, CIFAR-10 Batch 5:  Loss:     0.0801 Validation Accuracy: 0.596800\n",
      "Epoch 48, CIFAR-10 Batch 1:  Loss:     0.2463 Validation Accuracy: 0.586200\n",
      "Epoch 48, CIFAR-10 Batch 2:  Loss:     0.0749 Validation Accuracy: 0.572800\n",
      "Epoch 48, CIFAR-10 Batch 3:  Loss:     0.1205 Validation Accuracy: 0.606400\n",
      "Epoch 48, CIFAR-10 Batch 4:  Loss:     0.1443 Validation Accuracy: 0.595800\n",
      "Epoch 48, CIFAR-10 Batch 5:  Loss:     0.0785 Validation Accuracy: 0.600600\n",
      "Epoch 49, CIFAR-10 Batch 1:  Loss:     0.2471 Validation Accuracy: 0.591000\n",
      "Epoch 49, CIFAR-10 Batch 2:  Loss:     0.0710 Validation Accuracy: 0.573000\n",
      "Epoch 49, CIFAR-10 Batch 3:  Loss:     0.1246 Validation Accuracy: 0.604200\n",
      "Epoch 49, CIFAR-10 Batch 4:  Loss:     0.1353 Validation Accuracy: 0.603000\n",
      "Epoch 49, CIFAR-10 Batch 5:  Loss:     0.0774 Validation Accuracy: 0.599800\n",
      "Epoch 50, CIFAR-10 Batch 1:  Loss:     0.2067 Validation Accuracy: 0.595000\n",
      "Epoch 50, CIFAR-10 Batch 2:  Loss:     0.0708 Validation Accuracy: 0.572000\n",
      "Epoch 50, CIFAR-10 Batch 3:  Loss:     0.1301 Validation Accuracy: 0.600600\n",
      "Epoch 50, CIFAR-10 Batch 4:  Loss:     0.1281 Validation Accuracy: 0.596600\n",
      "Epoch 50, CIFAR-10 Batch 5:  Loss:     0.0761 Validation Accuracy: 0.603600\n"
     ]
    }
   ],
   "source": [
    "\"\"\"\n",
    "DON'T MODIFY ANYTHING IN THIS CELL\n",
    "\"\"\"\n",
    "save_model_path = './image_classification'\n",
    "\n",
    "print('Training...')\n",
    "with tf.Session() as sess:\n",
    "    # Initializing the variables\n",
    "    sess.run(tf.global_variables_initializer())\n",
    "    \n",
    "    # Training cycle\n",
    "    for epoch in range(epochs):\n",
    "        # Loop over all batches\n",
    "        n_batches = 5\n",
    "        for batch_i in range(1, n_batches + 1):\n",
    "            for batch_features, batch_labels in helper.load_preprocess_training_batch(batch_i, batch_size):\n",
    "                train_neural_network(sess, optimizer, keep_probability, batch_features, batch_labels)\n",
    "            print('Epoch {:>2}, CIFAR-10 Batch {}:  '.format(epoch + 1, batch_i), end='')\n",
    "            print_stats(sess, batch_features, batch_labels, cost, accuracy)\n",
    "            \n",
    "    # Save Model\n",
    "    saver = tf.train.Saver()\n",
    "    save_path = saver.save(sess, save_model_path)"
   ]
  },
  {
   "cell_type": "markdown",
   "metadata": {},
   "source": [
    "# Checkpoint\n",
    "The model has been saved to disk.\n",
    "## Test Model\n",
    "Test your model against the test dataset.  This will be your final accuracy. You should have an accuracy greater than 50%. If you don't, keep tweaking the model architecture and parameters."
   ]
  },
  {
   "cell_type": "code",
   "execution_count": 21,
   "metadata": {},
   "outputs": [
    {
     "name": "stdout",
     "output_type": "stream",
     "text": [
      "INFO:tensorflow:Restoring parameters from ./image_classification\n",
      "Testing Accuracy: 0.6\n",
      "\n"
     ]
    },
    {
     "data": {
      "image/png": "[encoded data removed]",
      "text/plain": [
       "<matplotlib.figure.Figure at 0x11525f320>"
      ]
     },
     "metadata": {
      "image/png": {
       "height": 319,
       "width": 355
      }
     },
     "output_type": "display_data"
    }
   ],
   "source": [
    "\"\"\"\n",
    "DON'T MODIFY ANYTHING IN THIS CELL\n",
    "\"\"\"\n",
    "%matplotlib inline\n",
    "%config InlineBackend.figure_format = 'retina'\n",
    "\n",
    "import tensorflow as tf\n",
    "import pickle\n",
    "import helper\n",
    "import random\n",
    "\n",
    "# Set batch size if not already set\n",
    "try:\n",
    "    if batch_size:\n",
    "        pass\n",
    "except NameError:\n",
    "    batch_size = 64\n",
    "\n",
    "save_model_path = './image_classification'\n",
    "n_samples = 4\n",
    "top_n_predictions = 3\n",
    "\n",
    "def test_model():\n",
    "    \"\"\"\n",
    "    Test the saved model against the test dataset\n",
    "    \"\"\"\n",
    "\n",
    "    test_features, test_labels = pickle.load(open('preprocess_training.p', mode='rb'))\n",
    "    loaded_graph = tf.Graph()\n",
    "\n",
    "    with tf.Session(graph=loaded_graph) as sess:\n",
    "        # Load model\n",
    "        loader = tf.train.import_meta_graph(save_model_path + '.meta')\n",
    "        loader.restore(sess, save_model_path)\n",
    "\n",
    "        # Get Tensors from loaded model\n",
    "        loaded_x = loaded_graph.get_tensor_by_name('x:0')\n",
    "        loaded_y = loaded_graph.get_tensor_by_name('y:0')\n",
    "        loaded_keep_prob = loaded_graph.get_tensor_by_name('keep_prob:0')\n",
    "        loaded_logits = loaded_graph.get_tensor_by_name('logits:0')\n",
    "        loaded_acc = loaded_graph.get_tensor_by_name('accuracy:0')\n",
    "        \n",
    "        # Get accuracy in batches for memory limitations\n",
    "        test_batch_acc_total = 0\n",
    "        test_batch_count = 0\n",
    "        \n",
    "        for train_feature_batch, train_label_batch in helper.batch_features_labels(test_features, test_labels, batch_size):\n",
    "            test_batch_acc_total += sess.run(\n",
    "                loaded_acc,\n",
    "                feed_dict={loaded_x: train_feature_batch, loaded_y: train_label_batch, loaded_keep_prob: 1.0})\n",
    "            test_batch_count += 1\n",
    "\n",
    "        print('Testing Accuracy: {}\\n'.format(test_batch_acc_total/test_batch_count))\n",
    "\n",
    "        # Print Random Samples\n",
    "        random_test_features, random_test_labels = tuple(zip(*random.sample(list(zip(test_features, test_labels)), n_samples)))\n",
    "        random_test_predictions = sess.run(\n",
    "            tf.nn.top_k(tf.nn.softmax(loaded_logits), top_n_predictions),\n",
    "            feed_dict={loaded_x: random_test_features, loaded_y: random_test_labels, loaded_keep_prob: 1.0})\n",
    "        helper.display_image_predictions(random_test_features, random_test_labels, random_test_predictions)\n",
    "\n",
    "\n",
    "test_model()"
   ]
  },
  {
   "cell_type": "markdown",
   "metadata": {},
   "source": [
    "## Why 50-70% Accuracy?\n",
    "You might be wondering why you can't get an accuracy any higher. First things first, 50% isn't bad for a simple CNN.  Pure guessing would get you 10% accuracy. However, you might notice people are getting scores [well above 70%](http://rodrigob.github.io/are_we_there_yet/build/classification_datasets_results.html#43494641522d3130).  That's because we haven't taught you all there is to know about neural networks. We still need to cover a few more techniques.\n",
    "## Submitting This Project\n",
    "When submitting this project, make sure to run all the cells before saving the notebook.  Save the notebook file as \"dlnd_image_classification.ipynb\" and save it as a HTML file under \"File\" -> \"Download as\".  Include the \"helper.py\" and \"problem_unittests.py\" files in your submission."
   ]
  }
 ],
 "metadata": {
  "kernelspec": {
   "display_name": "Python 3",
   "language": "python",
   "name": "python3"
  },
  "language_info": {
   "codemirror_mode": {
    "name": "ipython",
    "version": 3
   },
   "file_extension": ".py",
   "mimetype": "text/x-python",
   "name": "python",
   "nbconvert_exporter": "python",
   "pygments_lexer": "ipython3",
   "version": "3.5.3"
  }
 },
 "nbformat": 4,
 "nbformat_minor": 1
}
